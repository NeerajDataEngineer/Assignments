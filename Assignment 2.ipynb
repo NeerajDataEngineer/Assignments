{
 "cells": [
  {
   "cell_type": "code",
   "execution_count": 1,
   "id": "29c5f118-50c1-4c72-98bf-f8a162320b37",
   "metadata": {},
   "outputs": [],
   "source": [
    "#Q1 ANS"
   ]
  },
  {
   "cell_type": "code",
   "execution_count": 5,
   "id": "c9f48b41-c1f7-43ca-9608-2858bd40c656",
   "metadata": {},
   "outputs": [],
   "source": [
    "#Variable is container for store data values"
   ]
  },
  {
   "cell_type": "code",
   "execution_count": 6,
   "id": "5ac4eb60-0194-427b-ad23-c4736257e0e1",
   "metadata": {},
   "outputs": [],
   "source": [
    "variable=5"
   ]
  },
  {
   "cell_type": "code",
   "execution_count": 8,
   "id": "2371da4a-5251-411e-917c-e8dfbe4271fa",
   "metadata": {},
   "outputs": [
    {
     "name": "stdout",
     "output_type": "stream",
     "text": [
      "5\n"
     ]
    }
   ],
   "source": [
    "print(variable)"
   ]
  },
  {
   "cell_type": "code",
   "execution_count": 10,
   "id": "87c927e5-e0ce-4aa9-b1b3-e9339c1a5851",
   "metadata": {},
   "outputs": [
    {
     "data": {
      "text/plain": [
       "int"
      ]
     },
     "execution_count": 10,
     "metadata": {},
     "output_type": "execute_result"
    }
   ],
   "source": [
    "type(variable)"
   ]
  },
  {
   "cell_type": "code",
   "execution_count": 15,
   "id": "de437e0d-de4a-4d25-a573-5b2f21eeeeb9",
   "metadata": {},
   "outputs": [],
   "source": [
    "variable='iot'"
   ]
  },
  {
   "cell_type": "code",
   "execution_count": 17,
   "id": "adda488e-cbd2-40c4-acab-97c8fc4188f8",
   "metadata": {},
   "outputs": [],
   "source": [
    "a=5"
   ]
  },
  {
   "cell_type": "code",
   "execution_count": 18,
   "id": "5a8ec59e-a857-4cfa-b895-e88b851870f6",
   "metadata": {},
   "outputs": [
    {
     "data": {
      "text/plain": [
       "5"
      ]
     },
     "execution_count": 18,
     "metadata": {},
     "output_type": "execute_result"
    }
   ],
   "source": [
    "a"
   ]
  },
  {
   "cell_type": "code",
   "execution_count": 20,
   "id": "2e309ed9-0954-43ef-ac1d-ac874e7a09e3",
   "metadata": {},
   "outputs": [],
   "source": [
    "##Q4 ANS- SHIFT+ENTER"
   ]
  },
  {
   "cell_type": "code",
   "execution_count": 21,
   "id": "301ce931-0407-4a2d-8e1a-deccb75562f1",
   "metadata": {},
   "outputs": [],
   "source": [
    "my_list=[1,2,3,4,5]"
   ]
  },
  {
   "cell_type": "code",
   "execution_count": 22,
   "id": "a7e2b1e0-8f75-46b4-88a4-6ecb6a81aabf",
   "metadata": {},
   "outputs": [
    {
     "name": "stdout",
     "output_type": "stream",
     "text": [
      "[1, 2, 3, 4, 5]\n"
     ]
    }
   ],
   "source": [
    "print(my_list)"
   ]
  },
  {
   "cell_type": "code",
   "execution_count": 31,
   "id": "6f3e158b-495b-45a2-a749-860625106279",
   "metadata": {},
   "outputs": [
    {
     "name": "stdout",
     "output_type": "stream",
     "text": [
      "[2, 3]\n"
     ]
    }
   ],
   "source": [
    "print(my_list[1:3])\n",
    "#Q5 ANSWER"
   ]
  },
  {
   "cell_type": "code",
   "execution_count": 29,
   "id": "78378c0a-323a-4ad4-bede-da06a95404a1",
   "metadata": {},
   "outputs": [],
   "source": [
    "p=a+6j\n",
    "#Q6 ANSWER"
   ]
  },
  {
   "cell_type": "code",
   "execution_count": 30,
   "id": "afee508f-38c4-4516-bd3b-32c38ccee8ef",
   "metadata": {},
   "outputs": [
    {
     "data": {
      "text/plain": [
       "complex"
      ]
     },
     "execution_count": 30,
     "metadata": {},
     "output_type": "execute_result"
    }
   ],
   "source": [
    "type(p)"
   ]
  },
  {
   "cell_type": "code",
   "execution_count": 32,
   "id": "c6da84cc-04c3-45ba-a1d0-ee72ef405f07",
   "metadata": {},
   "outputs": [],
   "source": [
    "#Q7 ANSWER\n",
    "age=26"
   ]
  },
  {
   "cell_type": "code",
   "execution_count": 33,
   "id": "c8fb6e65-dcb4-4102-903a-dcdb1974899f",
   "metadata": {},
   "outputs": [
    {
     "data": {
      "text/plain": [
       "26"
      ]
     },
     "execution_count": 33,
     "metadata": {},
     "output_type": "execute_result"
    }
   ],
   "source": [
    "age"
   ]
  },
  {
   "cell_type": "code",
   "execution_count": 34,
   "id": "51c3b34e-951d-41f1-a4c9-4abea966973f",
   "metadata": {},
   "outputs": [
    {
     "data": {
      "text/plain": [
       "float"
      ]
     },
     "execution_count": 34,
     "metadata": {},
     "output_type": "execute_result"
    }
   ],
   "source": [
    "#Q8 ANSWER\n",
    "price=9.99\n",
    "type(price)"
   ]
  },
  {
   "cell_type": "code",
   "execution_count": 37,
   "id": "c9314ffc-be4d-4c9e-8351-e6e109271319",
   "metadata": {},
   "outputs": [],
   "source": [
    "#Q9 ANSWER\n",
    "name=\"Neeraj Sharma\"\n"
   ]
  },
  {
   "cell_type": "code",
   "execution_count": 39,
   "id": "97bce00c-1c78-4a5c-a887-8495074b0933",
   "metadata": {},
   "outputs": [
    {
     "name": "stdout",
     "output_type": "stream",
     "text": [
      "Neeraj Sharma\n"
     ]
    }
   ],
   "source": [
    "print(name)"
   ]
  },
  {
   "cell_type": "code",
   "execution_count": 40,
   "id": "7dd9a05e-c214-4d30-b11c-19067e3297ef",
   "metadata": {},
   "outputs": [],
   "source": [
    "#Q10 ANSWER\n",
    "a=\"Hello,World!\""
   ]
  },
  {
   "cell_type": "code",
   "execution_count": 41,
   "id": "9cd7e5aa-083d-4250-b364-e38f0d66f5bc",
   "metadata": {},
   "outputs": [
    {
     "name": "stdout",
     "output_type": "stream",
     "text": [
      "World\n"
     ]
    }
   ],
   "source": [
    "print(a[6:11])"
   ]
  },
  {
   "cell_type": "code",
   "execution_count": 46,
   "id": "733ca2f3-1d87-44b4-8a36-00c1de1558e3",
   "metadata": {},
   "outputs": [],
   "source": [
    "#Q11 ANSWER\n"
   ]
  },
  {
   "cell_type": "code",
   "execution_count": 49,
   "id": "485af1e1-1f03-4498-b2fd-a2bbb06947df",
   "metadata": {},
   "outputs": [],
   "source": [
    "is_student=True"
   ]
  },
  {
   "cell_type": "code",
   "execution_count": null,
   "id": "1fe292f2-289f-42ab-ac2f-14cb7f89897a",
   "metadata": {},
   "outputs": [],
   "source": []
  }
 ],
 "metadata": {
  "kernelspec": {
   "display_name": "Python 3 (ipykernel)",
   "language": "python",
   "name": "python3"
  },
  "language_info": {
   "codemirror_mode": {
    "name": "ipython",
    "version": 3
   },
   "file_extension": ".py",
   "mimetype": "text/x-python",
   "name": "python",
   "nbconvert_exporter": "python",
   "pygments_lexer": "ipython3",
   "version": "3.10.8"
  }
 },
 "nbformat": 4,
 "nbformat_minor": 5
}
